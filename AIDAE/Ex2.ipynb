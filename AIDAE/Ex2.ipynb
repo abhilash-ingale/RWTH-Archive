{
  "nbformat": 4,
  "nbformat_minor": 0,
  "metadata": {
    "colab": {
      "name": "AIDAE_Ex2.ipynb",
      "provenance": [],
      "collapsed_sections": [],
      "authorship_tag": "ABX9TyOpX7SGFSFjuR2uUvQZYjrQ",
      "include_colab_link": true
    },
    "kernelspec": {
      "name": "python3",
      "display_name": "Python 3"
    },
    "language_info": {
      "name": "python"
    }
  },
  "cells": [
    {
      "cell_type": "markdown",
      "metadata": {
        "id": "view-in-github",
        "colab_type": "text"
      },
      "source": [
        "<a href=\"https://colab.research.google.com/github/abhilash-ingale/RWTH-Archive/blob/main/AIDAE/Ex2.ipynb\" target=\"_parent\"><img src=\"https://colab.research.google.com/assets/colab-badge.svg\" alt=\"Open In Colab\"/></a>"
      ]
    },
    {
      "cell_type": "markdown",
      "metadata": {
        "id": "J5FlH5BcwxnR"
      },
      "source": [
        "**Task 1: Functions and control flow**"
      ]
    },
    {
      "cell_type": "markdown",
      "metadata": {
        "id": "Emo1qLtnzaOe"
      },
      "source": [
        "a) Implement a function checkPrimethat takes an integeras its only argument andchecks whether that number is prime. If the numberis prime, your function should return true. If the number is not prime, false should be returned. To be able to verify that your function works as intended,implement auxiliary code outside of your function, that asks the user for an integer on the command prompt, then pass the number read from the input to your function and displaythe result."
      ]
    },
    {
      "cell_type": "code",
      "metadata": {
        "id": "1ak0DsOIx8zK"
      },
      "source": [
        "def checkPrime(num):\n",
        "  \n",
        "  count = 0\n",
        "  \n",
        "  for i in range(1,num+1):\n",
        "    if (num%i==0):\n",
        "      count +=1\n",
        "\n",
        "  if (count==2):\n",
        "    return True\n",
        "  else:\n",
        "    return False  "
      ],
      "execution_count": 9,
      "outputs": []
    },
    {
      "cell_type": "code",
      "metadata": {
        "colab": {
          "base_uri": "https://localhost:8080/"
        },
        "id": "6JGxxnPD0FIp",
        "outputId": "b9406341-5940-46c2-f0db-070f603c1c94"
      },
      "source": [
        "# ------------#1 - Auxillary code for testing ---------\n",
        "num_str = input(\"Enter a number: \")\n",
        "num = int(num_str)\n",
        "checkPrime(num)"
      ],
      "execution_count": 11,
      "outputs": [
        {
          "output_type": "stream",
          "text": [
            "Enter a number: 24\n"
          ],
          "name": "stdout"
        },
        {
          "output_type": "execute_result",
          "data": {
            "text/plain": [
              "False"
            ]
          },
          "metadata": {
            "tags": []
          },
          "execution_count": 11
        }
      ]
    },
    {
      "cell_type": "markdown",
      "metadata": {
        "id": "R6y46qe00xg6"
      },
      "source": [
        "b) Currently, the functionality you have developed in part a) will likely not operate correctly if the input is not a number, but a string. To avoid having it crash, extend it such that it catches any errors that occur and prints an error message."
      ]
    },
    {
      "cell_type": "code",
      "metadata": {
        "id": "LoE2gXBr0Yc_"
      },
      "source": [
        "# ------------#2 - Auxillary code for testing input ---------\n",
        "def checkInput(inp):\n",
        "  try:\n",
        "    val = int(inp)\n",
        "  except ValueError:\n",
        "    print(\"\\nEntered input is not a number!\\n\")    "
      ],
      "execution_count": 15,
      "outputs": []
    },
    {
      "cell_type": "code",
      "metadata": {
        "colab": {
          "base_uri": "https://localhost:8080/"
        },
        "id": "PtkYRXXI3ogq",
        "outputId": "ae650d17-b21f-40a9-e325-514e23b9a8cc"
      },
      "source": [
        "# Data-entry code\n",
        "num_str = input(\"Enter a number: \")\n",
        "checkInput(num_str)"
      ],
      "execution_count": 16,
      "outputs": [
        {
          "output_type": "stream",
          "text": [
            "Enter a number: khjkhk\n",
            "\n",
            "Entered input is not a number!\n",
            "\n"
          ],
          "name": "stdout"
        }
      ]
    },
    {
      "cell_type": "markdown",
      "metadata": {
        "id": "gOHaqzsi8dnB"
      },
      "source": [
        "c) Implement a function fibonacci that takes a number i as its argument. The function should then return the first i fibonacci numbers in a list. Additionally, your function should take an optional argument named doubleTheValueswhich is false by default. If the optional argument is set to true, then your function has to return a list of the first i fibonacci numbers after they have been doubled."
      ]
    },
    {
      "cell_type": "code",
      "metadata": {
        "id": "XrvcKdrw7ewH"
      },
      "source": [
        "def custom_fibonacci(i):\n",
        "  init = 1\n",
        "  for val in range(1, i+1):\n",
        "    "
      ],
      "execution_count": null,
      "outputs": []
    },
    {
      "cell_type": "code",
      "metadata": {
        "id": "yfaT3G8r-65_"
      },
      "source": [
        ""
      ],
      "execution_count": null,
      "outputs": []
    },
    {
      "cell_type": "markdown",
      "metadata": {
        "id": "Nr3hpYrz_Mde"
      },
      "source": [
        "d) Implement a function histogramOfFilethat reads a text file containing one word per line. Your function then has to count how often individual words occur in the text file and return this histogram as a dictionary. The words should be the keys of the dict, while the occurrence counts are the corresponding values."
      ]
    }
  ]
}